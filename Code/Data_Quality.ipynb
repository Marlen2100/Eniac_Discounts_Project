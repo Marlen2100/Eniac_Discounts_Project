{
 "cells": [
  {
   "cell_type": "code",
   "execution_count": 1,
   "id": "ce10121e",
   "metadata": {},
   "outputs": [],
   "source": [
    "import pandas as pd"
   ]
  },
  {
   "cell_type": "code",
   "execution_count": null,
   "id": "0ad952e9",
   "metadata": {},
   "outputs": [],
   "source": [
    "order_cl = pd.read_csv(\"Orders_cl.csv\")\n",
    "orderlines_cl = pd.read_csv(\"Orderlines_cl.csv\")\n",
    "brands_cl = pd.read_csv(\"brands.csv\")\n",
    "products_cl = pd.read_csv(\"Products_cl.csv\")"
   ]
  },
  {
   "cell_type": "markdown",
   "id": "9445438b",
   "metadata": {},
   "source": [
    "# Section M"
   ]
  },
  {
   "cell_type": "markdown",
   "id": "5b66bee6",
   "metadata": {},
   "source": [
    "# Section A"
   ]
  }
 ],
 "metadata": {
  "kernelspec": {
   "display_name": "Python 3",
   "language": "python",
   "name": "python3"
  },
  "language_info": {
   "codemirror_mode": {
    "name": "ipython",
    "version": 3
   },
   "file_extension": ".py",
   "mimetype": "text/x-python",
   "name": "python",
   "nbconvert_exporter": "python",
   "pygments_lexer": "ipython3",
   "version": "3.13.3"
  }
 },
 "nbformat": 4,
 "nbformat_minor": 5
}
