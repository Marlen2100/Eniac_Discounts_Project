{
 "cells": [
  {
   "cell_type": "code",
   "execution_count": 1,
   "id": "0a75adb1",
   "metadata": {},
   "outputs": [],
   "source": [
    "import pandas as pd"
   ]
  },
  {
   "cell_type": "code",
   "execution_count": null,
   "id": "27083970",
   "metadata": {},
   "outputs": [],
   "source": [
    "order_df = pd.read_csv(\"orders.csv\")\n",
    "orderlines_df = pd.read_csv(\"orderlines.csv\")\n",
    "brands_df = pd.read_csv(\"brands.csv\")\n",
    "products_df = pd.read_csv(\"products.csv\")"
   ]
  },
  {
   "cell_type": "markdown",
   "id": "87ec6451",
   "metadata": {},
   "source": [
    "# Orders"
   ]
  },
  {
   "cell_type": "markdown",
   "id": "bf4a7d35",
   "metadata": {},
   "source": [
    "## Information"
   ]
  },
  {
   "cell_type": "code",
   "execution_count": null,
   "id": "c30c1df3",
   "metadata": {},
   "outputs": [],
   "source": [
    "products_df.info()"
   ]
  },
  {
   "cell_type": "code",
   "execution_count": null,
   "id": "face5bbd",
   "metadata": {},
   "outputs": [],
   "source": [
    "order_df"
   ]
  },
  {
   "cell_type": "code",
   "execution_count": null,
   "id": "d72d405b",
   "metadata": {},
   "outputs": [],
   "source": [
    "order_df.info()"
   ]
  },
  {
   "cell_type": "code",
   "execution_count": null,
   "id": "f4f70a77",
   "metadata": {},
   "outputs": [],
   "source": [
    "order_df.shape"
   ]
  },
  {
   "cell_type": "code",
   "execution_count": null,
   "id": "025ead1d",
   "metadata": {},
   "outputs": [],
   "source": [
    "order_df.describe()"
   ]
  },
  {
   "cell_type": "code",
   "execution_count": null,
   "id": "0f9e708f",
   "metadata": {},
   "outputs": [],
   "source": [
    "order_df.nunique()"
   ]
  },
  {
   "cell_type": "markdown",
   "id": "251fefd6",
   "metadata": {},
   "source": [
    "# Products"
   ]
  },
  {
   "cell_type": "markdown",
   "id": "819fa607",
   "metadata": {},
   "source": [
    "## Information"
   ]
  },
  {
   "cell_type": "code",
   "execution_count": null,
   "id": "67c65373",
   "metadata": {},
   "outputs": [],
   "source": [
    "products_df"
   ]
  },
  {
   "cell_type": "code",
   "execution_count": null,
   "id": "c7ed8761",
   "metadata": {},
   "outputs": [],
   "source": [
    "products_df.info()"
   ]
  },
  {
   "cell_type": "code",
   "execution_count": null,
   "id": "f6058b9c",
   "metadata": {},
   "outputs": [],
   "source": [
    "products_df.shape"
   ]
  },
  {
   "cell_type": "code",
   "execution_count": null,
   "id": "a01508a0",
   "metadata": {},
   "outputs": [],
   "source": [
    "products_df.describe()"
   ]
  }
 ],
 "metadata": {
  "kernelspec": {
   "display_name": "Python 3",
   "language": "python",
   "name": "python3"
  },
  "language_info": {
   "codemirror_mode": {
    "name": "ipython",
    "version": 3
   },
   "file_extension": ".py",
   "mimetype": "text/x-python",
   "name": "python",
   "nbconvert_exporter": "python",
   "pygments_lexer": "ipython3",
   "version": "3.13.3"
  }
 },
 "nbformat": 4,
 "nbformat_minor": 5
}
